{
 "cells": [
  {
   "cell_type": "markdown",
   "metadata": {},
   "source": [
    "### MNIST 텐서플로우 실습\n",
    "* 텐서플로우를 활용한 숫자 인식\n",
    "----\n",
    "1. 데이터의 형태를 확인한다\n",
    "2. 동일사이즈인지 동일형태(정보량)인지\n",
    "3. 데이터를 형태에 맞게 조작\n",
    "---\n",
    "### MNIST DATA\n",
    "* 55000 train data\n",
    "* 10000 test data\n",
    "* 5000 validation data\n",
    "* 28*28 =784byte image data"
   ]
  },
  {
   "cell_type": "markdown",
   "metadata": {},
   "source": [
    "#####  라이브러리 불러오기\n",
    "* Anaconda prompt 관리자 권한으로 실행\n",
    "* pip install tensorflow==1.5.0"
   ]
  },
  {
   "cell_type": "code",
   "execution_count": 159,
   "metadata": {},
   "outputs": [],
   "source": [
    "import numpy as np\n",
    "import matplotlib.pyplot as plt\n",
    "import tensorflow as tf"
   ]
  },
  {
   "cell_type": "markdown",
   "metadata": {},
   "source": [
    "#### Mnist data example 가져오기"
   ]
  },
  {
   "cell_type": "code",
   "execution_count": 160,
   "metadata": {},
   "outputs": [
    {
     "name": "stdout",
     "output_type": "stream",
     "text": [
      "Extracting c:/MnistData\\train-images-idx3-ubyte.gz\n",
      "Extracting c:/MnistData\\train-labels-idx1-ubyte.gz\n",
      "Extracting c:/MnistData\\t10k-images-idx3-ubyte.gz\n",
      "Extracting c:/MnistData\\t10k-labels-idx1-ubyte.gz\n"
     ]
    }
   ],
   "source": [
    "from tensorflow.examples.tutorials.mnist import input_data\n",
    "mnist= input_data.read_data_sets(\"c:/MnistData\",one_hot=True)"
   ]
  },
  {
   "cell_type": "markdown",
   "metadata": {},
   "source": [
    "#### 데이터 성격 확인하기"
   ]
  },
  {
   "cell_type": "code",
   "execution_count": 161,
   "metadata": {},
   "outputs": [
    {
     "name": "stdout",
     "output_type": "stream",
     "text": [
      "train data sahpe: (55000, 784)\n",
      "train label shape (55000, 10)\n",
      "[0. 0. 0. 0. 0. 0. 0. 1. 0. 0.]\n"
     ]
    }
   ],
   "source": [
    "print('train data sahpe:',mnist.train.images.shape)\n",
    "print('train label shape',mnist.train.labels.shape)\n",
    "#print(mnist.train.images[0])\n",
    "print(mnist.train.labels[0])\n"
   ]
  },
  {
   "cell_type": "code",
   "execution_count": 162,
   "metadata": {},
   "outputs": [
    {
     "data": {
      "text/plain": [
       "<matplotlib.image.AxesImage at 0x17bab8e1940>"
      ]
     },
     "execution_count": 162,
     "metadata": {},
     "output_type": "execute_result"
    },
    {
     "data": {
      "image/png": "[encoded data removed]",
      "text/plain": [
       "<Figure size 432x288 with 1 Axes>"
      ]
     },
     "metadata": {
      "needs_background": "light"
     },
     "output_type": "display_data"
    }
   ],
   "source": [
    "data1=mnist.train.images[0]\n",
    "imagedata1=data1.reshape([28,28])\n",
    "plt.imshow(imagedata1)"
   ]
  },
  {
   "cell_type": "markdown",
   "metadata": {},
   "source": [
    "#### 텐서플로우를 활용한 학습\n",
    "* 데이터 설정(placeholder)\n",
    "     - images 데이터 입력부: xdata\n",
    "     - labels 데이터 입력부: ydata    "
   ]
  },
  {
   "cell_type": "code",
   "execution_count": 163,
   "metadata": {},
   "outputs": [],
   "source": [
    "xdata=tf.placeholder(tf.float32,[None,784])\n",
    "ydata=tf.placeholder(tf.float32,[None,10])\n"
   ]
  },
  {
   "cell_type": "markdown",
   "metadata": {},
   "source": [
    "#### 모델 설정\n",
    "* 변수 설정(Variable)\n",
    "* label_data = weight * image_data + bias\n",
    "* hidden layer 설정 앞 행갯수=뒷 열갯수 가중치 설정\n",
    "\n",
    "\n"
   ]
  },
  {
   "cell_type": "code",
   "execution_count": 164,
   "metadata": {},
   "outputs": [],
   "source": [
    "arg1=784\n",
    "arg2=64\n",
    "\n",
    "W1= tf.Variable(tf.ones([784,arg1]))\n",
    "b1= tf.Variable(tf.zeros([arg1]))\n",
    "\n",
    "W2= tf.Variable(tf.ones([arg1,arg2]))\n",
    "b2= tf.Variable(tf.zeros([arg2]))\n",
    "\n",
    "W3= tf.Variable(tf.ones([arg2,10]))\n",
    "b3= tf.Variable(tf.zeros([10]))\n"
   ]
  },
  {
   "cell_type": "markdown",
   "metadata": {},
   "source": [
    "#### 레이어 형성\n",
    "* dnn에서는 배니싱 현상(가중치 영향이 사라지는 문제)\n",
    "* RELU 액티베이션 함수를 사용"
   ]
  },
  {
   "cell_type": "code",
   "execution_count": 165,
   "metadata": {},
   "outputs": [],
   "source": [
    "m1=tf.matmul(xdata,W1)+b1\n",
    "L1=tf.nn.relu(m1)\n",
    "\n",
    "m2=tf.matmul(L1,W2)+b2\n",
    "L2=tf.nn.relu(m2)\n",
    "\n",
    "y_=tf.matmul(L2,W3)+b3\n",
    "#y_=tf.nn.softmax(y)"
   ]
  },
  {
   "cell_type": "markdown",
   "metadata": {},
   "source": [
    "#### 손실지정\n",
    "* 크로스 엔트로피 사용 픽셀이 가지는 정보량 평균\n",
    "* 크로스 엔트로피를 최소화 하는 가중치 학습\n",
    "* 크로스 엔트로피 에러는 loss cost error 등으로 표시\n"
   ]
  },
  {
   "cell_type": "code",
   "execution_count": 166,
   "metadata": {},
   "outputs": [],
   "source": [
    "cost=tf.nn.softmax_cross_entropy_with_logits_v2(labels=ydata,logits=y_)\n",
    "cross_entropy=tf.reduce_mean(cost)"
   ]
  },
  {
   "cell_type": "raw",
   "metadata": {},
   "source": [
    "info=ydata*tf.log(y_)\n",
    "cross_entropy=tf.reduce_mean(-tf.reduce_sum(info,reduction_indices=[1]))"
   ]
  },
  {
   "cell_type": "markdown",
   "metadata": {},
   "source": [
    "#### 옵티마이저 설정\n",
    "* 옵티마이저 : GD, Adam 등...\n",
    "* 트레이닝 단계 설정"
   ]
  },
  {
   "cell_type": "code",
   "execution_count": 167,
   "metadata": {},
   "outputs": [],
   "source": [
    "lr=0.01 # 학습률 learning rate\n",
    "#optimizer=tf.train.GradientDescentOptimizer(lr)\n",
    "#다용도 사용 가능한 Adam\n",
    "optimizer=tf.train.AdamOptimizer(lr)\n",
    "train_step=optimizer.minimize(cross_entropy)"
   ]
  },
  {
   "cell_type": "markdown",
   "metadata": {},
   "source": [
    "#### 세션 생성및 실행\n",
    "* Variable 이 있으면 변수 초기화 실행\n"
   ]
  },
  {
   "cell_type": "code",
   "execution_count": 168,
   "metadata": {},
   "outputs": [],
   "source": [
    "init = tf.global_variables_initializer()\n",
    "sess=tf.Session()\n",
    "sess.run(init)"
   ]
  },
  {
   "cell_type": "code",
   "execution_count": 169,
   "metadata": {},
   "outputs": [
    {
     "name": "stdout",
     "output_type": "stream",
     "text": [
      "step: 0 , acc: 0.098\n",
      "step: 10 , acc: 0.1009\n",
      "step: 20 , acc: 0.1028\n",
      "step: 30 , acc: 0.1009\n",
      "step: 40 , acc: 0.0958\n",
      "step: 50 , acc: 0.0974\n",
      "step: 60 , acc: 0.0892\n",
      "step: 70 , acc: 0.0958\n",
      "step: 80 , acc: 0.1135\n",
      "step: 90 , acc: 0.0974\n",
      "step: 100 , acc: 0.101\n",
      "step: 110 , acc: 0.0974\n",
      "step: 120 , acc: 0.0892\n",
      "step: 130 , acc: 0.0892\n",
      "step: 140 , acc: 0.1009\n",
      "step: 150 , acc: 0.1032\n",
      "step: 160 , acc: 0.0982\n",
      "step: 170 , acc: 0.0974\n",
      "step: 180 , acc: 0.1009\n",
      "step: 190 , acc: 0.0974\n",
      "step: 200 , acc: 0.0892\n",
      "step: 210 , acc: 0.1032\n",
      "step: 220 , acc: 0.098\n",
      "step: 230 , acc: 0.098\n",
      "step: 240 , acc: 0.0958\n",
      "step: 250 , acc: 0.1028\n",
      "step: 260 , acc: 0.098\n",
      "step: 270 , acc: 0.1028\n",
      "step: 280 , acc: 0.0982\n",
      "step: 290 , acc: 0.0974\n",
      "step: 300 , acc: 0.101\n",
      "step: 310 , acc: 0.0974\n",
      "step: 320 , acc: 0.1032\n",
      "step: 330 , acc: 0.1032\n",
      "step: 340 , acc: 0.0958\n",
      "step: 350 , acc: 0.1028\n",
      "step: 360 , acc: 0.0974\n",
      "step: 370 , acc: 0.1135\n",
      "step: 380 , acc: 0.0958\n",
      "step: 390 , acc: 0.0892\n",
      "step: 400 , acc: 0.0892\n",
      "step: 410 , acc: 0.0974\n",
      "step: 420 , acc: 0.1032\n",
      "step: 430 , acc: 0.0958\n",
      "step: 440 , acc: 0.0974\n",
      "step: 450 , acc: 0.0958\n",
      "step: 460 , acc: 0.1032\n",
      "step: 470 , acc: 0.0974\n",
      "step: 480 , acc: 0.0982\n",
      "step: 490 , acc: 0.101\n",
      "step: 500 , acc: 0.1032\n",
      "step: 510 , acc: 0.1009\n",
      "step: 520 , acc: 0.1017\n",
      "step: 530 , acc: 0.0981\n",
      "step: 540 , acc: 0.1009\n",
      "step: 550 , acc: 0.1035\n",
      "step: 560 , acc: 0.1231\n",
      "step: 570 , acc: 0.0959\n",
      "step: 580 , acc: 0.0962\n",
      "step: 590 , acc: 0.1178\n",
      "step: 600 , acc: 0.1047\n",
      "step: 610 , acc: 0.0997\n",
      "step: 620 , acc: 0.1235\n",
      "step: 630 , acc: 0.1604\n",
      "step: 640 , acc: 0.1727\n",
      "step: 650 , acc: 0.1041\n",
      "step: 660 , acc: 0.1052\n",
      "step: 670 , acc: 0.1106\n",
      "step: 680 , acc: 0.1247\n",
      "step: 690 , acc: 0.1776\n",
      "step: 700 , acc: 0.1301\n",
      "step: 710 , acc: 0.1425\n",
      "step: 720 , acc: 0.1317\n",
      "step: 730 , acc: 0.1078\n",
      "step: 740 , acc: 0.1095\n",
      "step: 750 , acc: 0.1232\n",
      "step: 760 , acc: 0.1335\n",
      "step: 770 , acc: 0.1437\n",
      "step: 780 , acc: 0.1732\n",
      "step: 790 , acc: 0.2141\n",
      "step: 800 , acc: 0.1995\n",
      "step: 810 , acc: 0.1814\n",
      "step: 820 , acc: 0.1872\n",
      "step: 830 , acc: 0.2045\n",
      "step: 840 , acc: 0.2068\n",
      "step: 850 , acc: 0.1955\n",
      "step: 860 , acc: 0.1955\n",
      "step: 870 , acc: 0.1815\n",
      "step: 880 , acc: 0.1993\n",
      "step: 890 , acc: 0.1885\n",
      "step: 900 , acc: 0.1945\n",
      "step: 910 , acc: 0.1989\n",
      "step: 920 , acc: 0.1974\n",
      "step: 930 , acc: 0.1992\n",
      "step: 940 , acc: 0.2001\n",
      "step: 950 , acc: 0.2139\n",
      "step: 960 , acc: 0.2032\n",
      "step: 970 , acc: 0.2023\n",
      "step: 980 , acc: 0.2509\n",
      "step: 990 , acc: 0.2087\n"
     ]
    }
   ],
   "source": [
    "total=1000\n",
    "tr_x=[]\n",
    "tr_y=[]\n",
    "for i in range(total):    \n",
    "    batch_xs,batch_ys=mnist.train.next_batch(100)\n",
    "    fd={xdata:batch_xs,ydata:batch_ys}\n",
    "    sess.run(train_step,feed_dict=fd)\n",
    "    #정확도 accuracy 테스트\n",
    "    prediction=tf.equal(tf.argmax(ydata,1),tf.argmax(y_,1))\n",
    "    acc=tf.reduce_mean(tf.cast(prediction,tf.float32))\n",
    "    tfd={xdata:mnist.test.images,ydata:mnist.test.labels}\n",
    "    output=sess.run(acc,feed_dict=tfd)\n",
    "    tr_x.append(i)\n",
    "    tr_y.append(output)\n",
    "    if(i%10==0):\n",
    "        print(\"step:\",i,\", acc:\",output)\n"
   ]
  },
  {
   "cell_type": "markdown",
   "metadata": {},
   "source": [
    "#### 분석하기\n",
    "* 학습률 분석\n",
    "* 가중치 분석\n"
   ]
  },
  {
   "cell_type": "code",
   "execution_count": 170,
   "metadata": {},
   "outputs": [
    {
     "data": {
      "image/png": "[encoded data removed]",
      "text/plain": [
       "<Figure size 432x288 with 1 Axes>"
      ]
     },
     "metadata": {
      "needs_background": "light"
     },
     "output_type": "display_data"
    }
   ],
   "source": [
    "plt.plot(tr_x,tr_y)\n",
    "plt.show()"
   ]
  },
  {
   "cell_type": "code",
   "execution_count": 177,
   "metadata": {},
   "outputs": [
    {
     "data": {
      "image/png": "[encoded data removed]",
      "text/plain": [
       "<Figure size 1008x7200 with 64 Axes>"
      ]
     },
     "metadata": {
      "needs_background": "light"
     },
     "output_type": "display_data"
    }
   ],
   "source": [
    "W1_=sess.run(W1) #[784,10]\n",
    "b1_=sess.run(b1)\n",
    "W1T_=W1_.T\n",
    "plt.rcParams[\"figure.figsize\"] = (14,100)\n",
    "for i in range(arg2):\n",
    "    w1_img=W1T_[i].reshape([28,28])\n",
    "    plt.subplot(160,5,i+1)\n",
    "    plt.imshow(w1_img,cmap='bwr')\n",
    "plt.show()"
   ]
  },
  {
   "cell_type": "raw",
   "metadata": {},
   "source": [
    "img=np.fromfile('7.rawraw',dtype='int8')\n",
    "img=img+np.ones([784])\n",
    "#print(img)\n",
    "imgdata=img.reshape([28,28])\n",
    "answer=np.matmul(img,W_)+b_\n",
    "print(answer)\n",
    "result=np.argmax(answer,axis=0)\n",
    "print(\"답은:\",result)\n",
    "plt.imshow(imgdata)\n",
    "plt.show()\n",
    "#            ai1qaz                 http://naver.me/FKscPueG\n",
    "#print(mnist.train.images[0])\n",
    "#print(img)"
   ]
  },
  {
   "cell_type": "raw",
   "metadata": {},
   "source": [
    "sess.close()"
   ]
  }
 ],
 "metadata": {
  "kernelspec": {
   "display_name": "Python 3",
   "language": "python",
   "name": "python3"
  },
  "language_info": {
   "codemirror_mode": {
    "name": "ipython",
    "version": 3
   },
   "file_extension": ".py",
   "mimetype": "text/x-python",
   "name": "python",
   "nbconvert_exporter": "python",
   "pygments_lexer": "ipython3",
   "version": "3.6.8"
  }
 },
 "nbformat": 4,
 "nbformat_minor": 2
}
