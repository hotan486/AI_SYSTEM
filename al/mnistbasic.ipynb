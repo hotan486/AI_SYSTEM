{
 "cells": [
  {
   "cell_type": "markdown",
   "metadata": {},
   "source": [
    "### MNIST 텐서플로우 실습\n",
    "* 텐서플로우를 활용한 숫자 인식\n",
    "----\n",
    "1. 데이터의 형태를 확인한다\n",
    "2. 동일사이즈인지 동일형태(정보량)인지\n",
    "3. 데이터를 형태에 맞게 조작\n",
    "---\n",
    "### MNIST DATA\n",
    "* 55000 train data\n",
    "* 10000 test data\n",
    "* 5000 validation data\n",
    "* 28*28 =784byte image data"
   ]
  },
  {
   "cell_type": "markdown",
   "metadata": {},
   "source": [
    "#####  라이브러리 불러오기\n",
    "* Anaconda prompt 관리자 권한으로 실행\n",
    "* pip install tensorflow==1.5.0"
   ]
  },
  {
   "cell_type": "code",
   "execution_count": 52,
   "metadata": {},
   "outputs": [],
   "source": [
    "import numpy as np\n",
    "import matplotlib.pyplot as plt\n",
    "import tensorflow as tf"
   ]
  },
  {
   "cell_type": "markdown",
   "metadata": {},
   "source": [
    "#### Mnist data example 가져오기"
   ]
  },
  {
   "cell_type": "code",
   "execution_count": 53,
   "metadata": {},
   "outputs": [
    {
     "name": "stdout",
     "output_type": "stream",
     "text": [
      "Extracting c:/MnistData\\train-images-idx3-ubyte.gz\n",
      "Extracting c:/MnistData\\train-labels-idx1-ubyte.gz\n",
      "Extracting c:/MnistData\\t10k-images-idx3-ubyte.gz\n",
      "Extracting c:/MnistData\\t10k-labels-idx1-ubyte.gz\n"
     ]
    }
   ],
   "source": [
    "from tensorflow.examples.tutorials.mnist import input_data\n",
    "mnist= input_data.read_data_sets(\"c:/MnistData\",one_hot=True)"
   ]
  },
  {
   "cell_type": "markdown",
   "metadata": {},
   "source": [
    "#### 데이터 성격 확인하기"
   ]
  },
  {
   "cell_type": "code",
   "execution_count": 54,
   "metadata": {},
   "outputs": [
    {
     "name": "stdout",
     "output_type": "stream",
     "text": [
      "train data sahpe: (55000, 784)\n",
      "train label shape (55000, 10)\n",
      "[0. 0. 0. 0. 0. 0. 0. 1. 0. 0.]\n"
     ]
    }
   ],
   "source": [
    "print('train data sahpe:',mnist.train.images.shape)\n",
    "print('train label shape',mnist.train.labels.shape)\n",
    "#print(mnist.train.images[0])\n",
    "print(mnist.train.labels[0])\n"
   ]
  },
  {
   "cell_type": "code",
   "execution_count": 55,
   "metadata": {},
   "outputs": [
    {
     "data": {
      "text/plain": [
       "<matplotlib.image.AxesImage at 0x17b80f02d30>"
      ]
     },
     "execution_count": 55,
     "metadata": {},
     "output_type": "execute_result"
    },
    {
     "data": {
      "image/png": "[encoded data removed]",
      "text/plain": [
       "<Figure size 432x288 with 1 Axes>"
      ]
     },
     "metadata": {
      "needs_background": "light"
     },
     "output_type": "display_data"
    }
   ],
   "source": [
    "data1=mnist.train.images[0]\n",
    "imagedata1=data1.reshape([28,28])\n",
    "plt.imshow(imagedata1)"
   ]
  },
  {
   "cell_type": "markdown",
   "metadata": {},
   "source": [
    "#### 텐서플로우를 활용한 학습\n",
    "* 데이터 설정(placeholder)\n",
    "     - images 데이터 입력부: xdata\n",
    "     - labels 데이터 입력부: ydata    "
   ]
  },
  {
   "cell_type": "code",
   "execution_count": 56,
   "metadata": {},
   "outputs": [],
   "source": [
    "xdata=tf.placeholder(tf.float32,[None,784])\n",
    "ydata=tf.placeholder(tf.float32,[None,10])\n"
   ]
  },
  {
   "cell_type": "markdown",
   "metadata": {},
   "source": [
    "#### 모델 설정\n",
    "* 변수 설정(Variable)\n",
    "* label_data = weight * image_data + bias"
   ]
  },
  {
   "cell_type": "code",
   "execution_count": 57,
   "metadata": {},
   "outputs": [],
   "source": [
    "W= tf.Variable(tf.ones([784,10]))\n",
    "b= tf.Variable(tf.zeros([10]))\n"
   ]
  },
  {
   "cell_type": "code",
   "execution_count": 58,
   "metadata": {},
   "outputs": [],
   "source": [
    "y=tf.matmul(xdata,W)+b\n",
    "y_=tf.nn.softmax(y)"
   ]
  },
  {
   "cell_type": "markdown",
   "metadata": {},
   "source": [
    "#### 손실지정\n",
    "* 크로스 엔트로피 사용 픽셀이 가지는 정보량 평균\n",
    "* 크로스 엔트로피를 최소화 하는 가중치 학습\n",
    "* 크로스 엔트로피 에러는 loss cost error 등으로 표시\n"
   ]
  },
  {
   "cell_type": "code",
   "execution_count": 59,
   "metadata": {},
   "outputs": [],
   "source": [
    "info=ydata*tf.log(y_)\n",
    "cross_entropy=tf.reduce_mean(-tf.reduce_sum(info,reduction_indices=[1]))"
   ]
  },
  {
   "cell_type": "markdown",
   "metadata": {},
   "source": [
    "#### 옵티마이저 설정\n",
    "* 옵티마이저 : GD, Adam 등...\n",
    "* 트레이닝 단계 설정"
   ]
  },
  {
   "cell_type": "code",
   "execution_count": 60,
   "metadata": {},
   "outputs": [],
   "source": [
    "lr=0.01 # 학습률 learning rate\n",
    "optimizer=tf.train.GradientDescentOptimizer(lr)\n",
    "train_step=optimizer.minimize(cross_entropy)\n",
    "\n"
   ]
  },
  {
   "cell_type": "markdown",
   "metadata": {},
   "source": [
    "#### 세션 생성및 실행\n",
    "* Variable 이 있으면 변수 초기화 실행\n"
   ]
  },
  {
   "cell_type": "code",
   "execution_count": 61,
   "metadata": {},
   "outputs": [],
   "source": [
    "init = tf.global_variables_initializer()\n",
    "sess=tf.Session()\n",
    "sess.run(init)"
   ]
  },
  {
   "cell_type": "code",
   "execution_count": 62,
   "metadata": {},
   "outputs": [
    {
     "name": "stdout",
     "output_type": "stream",
     "text": [
      "step: 0 , acc: 0.3802\n",
      "step: 10 , acc: 0.5648\n",
      "step: 20 , acc: 0.6034\n",
      "step: 30 , acc: 0.6512\n",
      "step: 40 , acc: 0.7085\n",
      "step: 50 , acc: 0.7357\n",
      "step: 60 , acc: 0.7496\n",
      "step: 70 , acc: 0.7483\n",
      "step: 80 , acc: 0.7438\n",
      "step: 90 , acc: 0.7533\n",
      "step: 100 , acc: 0.781\n",
      "step: 110 , acc: 0.7902\n",
      "step: 120 , acc: 0.799\n",
      "step: 130 , acc: 0.798\n",
      "step: 140 , acc: 0.8025\n",
      "step: 150 , acc: 0.8051\n",
      "step: 160 , acc: 0.8176\n",
      "step: 170 , acc: 0.8185\n",
      "step: 180 , acc: 0.8204\n",
      "step: 190 , acc: 0.8256\n",
      "step: 200 , acc: 0.8256\n",
      "step: 210 , acc: 0.8233\n",
      "step: 220 , acc: 0.8241\n",
      "step: 230 , acc: 0.8298\n",
      "step: 240 , acc: 0.8316\n",
      "step: 250 , acc: 0.8293\n",
      "step: 260 , acc: 0.827\n",
      "step: 270 , acc: 0.8299\n",
      "step: 280 , acc: 0.8292\n",
      "step: 290 , acc: 0.8295\n",
      "step: 300 , acc: 0.83\n",
      "step: 310 , acc: 0.8333\n",
      "step: 320 , acc: 0.8364\n",
      "step: 330 , acc: 0.8375\n",
      "step: 340 , acc: 0.8377\n",
      "step: 350 , acc: 0.8398\n",
      "step: 360 , acc: 0.8397\n",
      "step: 370 , acc: 0.8383\n",
      "step: 380 , acc: 0.8392\n",
      "step: 390 , acc: 0.8409\n",
      "step: 400 , acc: 0.8426\n",
      "step: 410 , acc: 0.8424\n",
      "step: 420 , acc: 0.8422\n",
      "step: 430 , acc: 0.8426\n",
      "step: 440 , acc: 0.8434\n",
      "step: 450 , acc: 0.8438\n",
      "step: 460 , acc: 0.8451\n",
      "step: 470 , acc: 0.8477\n",
      "step: 480 , acc: 0.8501\n",
      "step: 490 , acc: 0.8483\n",
      "step: 500 , acc: 0.8503\n",
      "step: 510 , acc: 0.8504\n",
      "step: 520 , acc: 0.8498\n",
      "step: 530 , acc: 0.8516\n",
      "step: 540 , acc: 0.8533\n",
      "step: 550 , acc: 0.8537\n",
      "step: 560 , acc: 0.8525\n",
      "step: 570 , acc: 0.8533\n",
      "step: 580 , acc: 0.8548\n",
      "step: 590 , acc: 0.8541\n",
      "step: 600 , acc: 0.8566\n",
      "step: 610 , acc: 0.8565\n",
      "step: 620 , acc: 0.8573\n",
      "step: 630 , acc: 0.856\n",
      "step: 640 , acc: 0.8564\n",
      "step: 650 , acc: 0.8599\n",
      "step: 660 , acc: 0.8606\n",
      "step: 670 , acc: 0.86\n",
      "step: 680 , acc: 0.8603\n",
      "step: 690 , acc: 0.86\n",
      "step: 700 , acc: 0.8598\n",
      "step: 710 , acc: 0.8604\n",
      "step: 720 , acc: 0.8627\n",
      "step: 730 , acc: 0.8632\n",
      "step: 740 , acc: 0.8623\n",
      "step: 750 , acc: 0.8619\n",
      "step: 760 , acc: 0.8629\n",
      "step: 770 , acc: 0.8636\n",
      "step: 780 , acc: 0.8641\n",
      "step: 790 , acc: 0.8646\n",
      "step: 800 , acc: 0.8647\n",
      "step: 810 , acc: 0.8657\n",
      "step: 820 , acc: 0.868\n",
      "step: 830 , acc: 0.8683\n",
      "step: 840 , acc: 0.8684\n",
      "step: 850 , acc: 0.8677\n",
      "step: 860 , acc: 0.8651\n",
      "step: 870 , acc: 0.8658\n",
      "step: 880 , acc: 0.8663\n",
      "step: 890 , acc: 0.8656\n",
      "step: 900 , acc: 0.8665\n",
      "step: 910 , acc: 0.8681\n",
      "step: 920 , acc: 0.8694\n",
      "step: 930 , acc: 0.8697\n",
      "step: 940 , acc: 0.8682\n",
      "step: 950 , acc: 0.8687\n",
      "step: 960 , acc: 0.8708\n",
      "step: 970 , acc: 0.8707\n",
      "step: 980 , acc: 0.8692\n",
      "step: 990 , acc: 0.868\n"
     ]
    }
   ],
   "source": [
    "total=1000\n",
    "tr_x=[]\n",
    "tr_y=[]\n",
    "for i in range(total):    \n",
    "    batch_xs,batch_ys=mnist.train.next_batch(100)\n",
    "    fd={xdata:batch_xs,ydata:batch_ys}\n",
    "    sess.run(train_step,feed_dict=fd)\n",
    "    #정확도 accuracy 테스트\n",
    "    prediction=tf.equal(tf.argmax(ydata,1),tf.argmax(y_,1))\n",
    "    acc=tf.reduce_mean(tf.cast(prediction,tf.float32))\n",
    "    tfd={xdata:mnist.test.images,ydata:mnist.test.labels}\n",
    "    output=sess.run(acc,feed_dict=tfd)\n",
    "    tr_x.append(i)\n",
    "    tr_y.append(output)\n",
    "    if(i%10==0):\n",
    "        print(\"step:\",i,\", acc:\",output)\n"
   ]
  },
  {
   "cell_type": "markdown",
   "metadata": {},
   "source": [
    "#### 분석하기\n",
    "* 학습률 분석\n",
    "* 가중치 분석\n"
   ]
  },
  {
   "cell_type": "code",
   "execution_count": 63,
   "metadata": {},
   "outputs": [
    {
     "data": {
      "image/png": "[encoded data removed]",
      "text/plain": [
       "<Figure size 432x288 with 1 Axes>"
      ]
     },
     "metadata": {
      "needs_background": "light"
     },
     "output_type": "display_data"
    }
   ],
   "source": [
    "sess.close()\n",
    "plt.plot(tr_x,tr_y)\n",
    "plt.show()"
   ]
  },
  {
   "cell_type": "code",
   "execution_count": null,
   "metadata": {},
   "outputs": [],
   "source": []
  }
 ],
 "metadata": {
  "kernelspec": {
   "display_name": "Python 3",
   "language": "python",
   "name": "python3"
  },
  "language_info": {
   "codemirror_mode": {
    "name": "ipython",
    "version": 3
   },
   "file_extension": ".py",
   "mimetype": "text/x-python",
   "name": "python",
   "nbconvert_exporter": "python",
   "pygments_lexer": "ipython3",
   "version": "3.6.8"
  }
 },
 "nbformat": 4,
 "nbformat_minor": 2
}
