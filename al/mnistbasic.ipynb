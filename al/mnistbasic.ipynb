{
 "cells": [
  {
   "cell_type": "markdown",
   "metadata": {},
   "source": [
    "### MNIST 텐서플로우 실습\n",
    "* 텐서플로우를 활용한 숫자 인식\n",
    "----\n",
    "1. 데이터의 형태를 확인한다\n",
    "2. 동일사이즈인지 동일형태(정보량)인지\n",
    "3. 데이터를 형태에 맞게 조작\n",
    "---\n",
    "### MNIST DATA\n",
    "* 55000 train data\n",
    "* 10000 test data\n",
    "* 5000 validation data\n",
    "* 28*28 =784byte image data"
   ]
  },
  {
   "cell_type": "markdown",
   "metadata": {},
   "source": [
    "#####  라이브러리 불러오기\n",
    "* Anaconda prompt 관리자 권한으로 실행\n",
    "* pip install tensorflow==1.5.0"
   ]
  },
  {
   "cell_type": "code",
   "execution_count": 107,
   "metadata": {},
   "outputs": [],
   "source": [
    "import numpy as np\n",
    "import matplotlib.pyplot as plt\n",
    "import tensorflow as tf"
   ]
  },
  {
   "cell_type": "markdown",
   "metadata": {},
   "source": [
    "#### Mnist data example 가져오기"
   ]
  },
  {
   "cell_type": "code",
   "execution_count": 108,
   "metadata": {},
   "outputs": [
    {
     "name": "stdout",
     "output_type": "stream",
     "text": [
      "Extracting c:/MnistData\\train-images-idx3-ubyte.gz\n",
      "Extracting c:/MnistData\\train-labels-idx1-ubyte.gz\n",
      "Extracting c:/MnistData\\t10k-images-idx3-ubyte.gz\n",
      "Extracting c:/MnistData\\t10k-labels-idx1-ubyte.gz\n"
     ]
    }
   ],
   "source": [
    "from tensorflow.examples.tutorials.mnist import input_data\n",
    "mnist= input_data.read_data_sets(\"c:/MnistData\",one_hot=True)"
   ]
  },
  {
   "cell_type": "markdown",
   "metadata": {},
   "source": [
    "#### 데이터 성격 확인하기"
   ]
  },
  {
   "cell_type": "code",
   "execution_count": 109,
   "metadata": {},
   "outputs": [
    {
     "name": "stdout",
     "output_type": "stream",
     "text": [
      "train data sahpe: (55000, 784)\n",
      "train label shape (55000, 10)\n",
      "[0. 0. 0. 0. 0. 0. 0. 1. 0. 0.]\n"
     ]
    }
   ],
   "source": [
    "print('train data sahpe:',mnist.train.images.shape)\n",
    "print('train label shape',mnist.train.labels.shape)\n",
    "#print(mnist.train.images[0])\n",
    "print(mnist.train.labels[0])\n"
   ]
  },
  {
   "cell_type": "code",
   "execution_count": 110,
   "metadata": {},
   "outputs": [
    {
     "data": {
      "text/plain": [
       "<matplotlib.image.AxesImage at 0x17ba9b60438>"
      ]
     },
     "execution_count": 110,
     "metadata": {},
     "output_type": "execute_result"
    },
    {
     "data": {
      "image/png": "[encoded data removed]",
      "text/plain": [
       "<Figure size 432x288 with 1 Axes>"
      ]
     },
     "metadata": {
      "needs_background": "light"
     },
     "output_type": "display_data"
    }
   ],
   "source": [
    "data1=mnist.train.images[0]\n",
    "imagedata1=data1.reshape([28,28])\n",
    "plt.imshow(imagedata1)"
   ]
  },
  {
   "cell_type": "markdown",
   "metadata": {},
   "source": [
    "#### 텐서플로우를 활용한 학습\n",
    "* 데이터 설정(placeholder)\n",
    "     - images 데이터 입력부: xdata\n",
    "     - labels 데이터 입력부: ydata    "
   ]
  },
  {
   "cell_type": "code",
   "execution_count": 111,
   "metadata": {},
   "outputs": [],
   "source": [
    "xdata=tf.placeholder(tf.float32,[None,784])\n",
    "ydata=tf.placeholder(tf.float32,[None,10])\n"
   ]
  },
  {
   "cell_type": "markdown",
   "metadata": {},
   "source": [
    "#### 모델 설정\n",
    "* 변수 설정(Variable)\n",
    "* label_data = weight * image_data + bias"
   ]
  },
  {
   "cell_type": "code",
   "execution_count": 112,
   "metadata": {},
   "outputs": [],
   "source": [
    "W= tf.Variable(tf.ones([784,10]))\n",
    "b= tf.Variable(tf.zeros([10]))\n"
   ]
  },
  {
   "cell_type": "code",
   "execution_count": 113,
   "metadata": {},
   "outputs": [],
   "source": [
    "y=tf.matmul(xdata,W)+b\n",
    "y_=tf.nn.softmax(y)"
   ]
  },
  {
   "cell_type": "markdown",
   "metadata": {},
   "source": [
    "#### 손실지정\n",
    "* 크로스 엔트로피 사용 픽셀이 가지는 정보량 평균\n",
    "* 크로스 엔트로피를 최소화 하는 가중치 학습\n",
    "* 크로스 엔트로피 에러는 loss cost error 등으로 표시\n"
   ]
  },
  {
   "cell_type": "code",
   "execution_count": 114,
   "metadata": {},
   "outputs": [],
   "source": [
    "info=ydata*tf.log(y_)\n",
    "cross_entropy=tf.reduce_mean(-tf.reduce_sum(info,reduction_indices=[1]))"
   ]
  },
  {
   "cell_type": "markdown",
   "metadata": {},
   "source": [
    "#### 옵티마이저 설정\n",
    "* 옵티마이저 : GD, Adam 등...\n",
    "* 트레이닝 단계 설정"
   ]
  },
  {
   "cell_type": "code",
   "execution_count": 115,
   "metadata": {},
   "outputs": [],
   "source": [
    "lr=1 # 학습률 learning rate\n",
    "optimizer=tf.train.GradientDescentOptimizer(lr)\n",
    "train_step=optimizer.minimize(cross_entropy)\n",
    "\n"
   ]
  },
  {
   "cell_type": "markdown",
   "metadata": {},
   "source": [
    "#### 세션 생성및 실행\n",
    "* Variable 이 있으면 변수 초기화 실행\n"
   ]
  },
  {
   "cell_type": "code",
   "execution_count": 116,
   "metadata": {},
   "outputs": [],
   "source": [
    "init = tf.global_variables_initializer()\n",
    "sess=tf.Session()\n",
    "sess.run(init)"
   ]
  },
  {
   "cell_type": "code",
   "execution_count": 117,
   "metadata": {},
   "outputs": [
    {
     "name": "stdout",
     "output_type": "stream",
     "text": [
      "step: 0 , acc: 0.4668\n",
      "step: 10 , acc: 0.6933\n",
      "step: 20 , acc: 0.8548\n",
      "step: 30 , acc: 0.8624\n",
      "step: 40 , acc: 0.8623\n",
      "step: 50 , acc: 0.8719\n",
      "step: 60 , acc: 0.8836\n",
      "step: 70 , acc: 0.8767\n",
      "step: 80 , acc: 0.8579\n",
      "step: 90 , acc: 0.8803\n"
     ]
    }
   ],
   "source": [
    "total=100\n",
    "tr_x=[]\n",
    "tr_y=[]\n",
    "for i in range(total):    \n",
    "    batch_xs,batch_ys=mnist.train.next_batch(100)\n",
    "    fd={xdata:batch_xs,ydata:batch_ys}\n",
    "    sess.run(train_step,feed_dict=fd)\n",
    "    #정확도 accuracy 테스트\n",
    "    prediction=tf.equal(tf.argmax(ydata,1),tf.argmax(y_,1))\n",
    "    acc=tf.reduce_mean(tf.cast(prediction,tf.float32))\n",
    "    tfd={xdata:mnist.test.images,ydata:mnist.test.labels}\n",
    "    output=sess.run(acc,feed_dict=tfd)\n",
    "    tr_x.append(i)\n",
    "    tr_y.append(output)\n",
    "    if(i%10==0):\n",
    "        print(\"step:\",i,\", acc:\",output)\n"
   ]
  },
  {
   "cell_type": "markdown",
   "metadata": {},
   "source": [
    "#### 분석하기\n",
    "* 학습률 분석\n",
    "* 가중치 분석\n"
   ]
  },
  {
   "cell_type": "code",
   "execution_count": 118,
   "metadata": {},
   "outputs": [],
   "source": [
    "#plt.plot(tr_x,tr_y)\n",
    "#plt.show()"
   ]
  },
  {
   "cell_type": "code",
   "execution_count": 129,
   "metadata": {},
   "outputs": [
    {
     "data": {
      "image/png": "[encoded data removed]",
      "text/plain": [
       "<Figure size 432x288 with 10 Axes>"
      ]
     },
     "metadata": {
      "needs_background": "light"
     },
     "output_type": "display_data"
    }
   ],
   "source": [
    "W_=sess.run(W) #[784,10]\n",
    "b_=sess.run(b)\n",
    "WT_=W_.T\n",
    "for i in range(10):\n",
    "    w_img=WT_[i].reshape([28,28])\n",
    "    plt.subplot(2,5,i+1)\n",
    "    plt.imshow(w_img,cmap='bwr')\n",
    "plt.show()"
   ]
  },
  {
   "cell_type": "code",
   "execution_count": 139,
   "metadata": {},
   "outputs": [
    {
     "name": "stdout",
     "output_type": "stream",
     "text": [
      "[ 91.89441322  94.75300407 100.02854582  95.44024479  95.95877926\n",
      "  96.55018562  98.98325545  97.77522995  94.89696068  93.71937703]\n",
      "답은: 2\n"
     ]
    },
    {
     "data": {
      "image/png": "[encoded data removed]",
      "text/plain": [
       "<Figure size 432x288 with 1 Axes>"
      ]
     },
     "metadata": {
      "needs_background": "light"
     },
     "output_type": "display_data"
    }
   ],
   "source": [
    "img=np.fromfile('7.rawraw',dtype='int8')\n",
    "img=img+np.ones([784])\n",
    "#print(img)\n",
    "imgdata=img.reshape([28,28])\n",
    "answer=np.matmul(img,W_)+b_\n",
    "print(answer)\n",
    "result=np.argmax(answer,axis=0)\n",
    "print(\"답은:\",result)\n",
    "plt.imshow(imgdata)\n",
    "plt.show()\n",
    "#print(mnist.train.images[0])\n",
    "#print(img)"
   ]
  },
  {
   "cell_type": "raw",
   "metadata": {},
   "source": [
    "sess.close()"
   ]
  }
 ],
 "metadata": {
  "kernelspec": {
   "display_name": "Python 3",
   "language": "python",
   "name": "python3"
  },
  "language_info": {
   "codemirror_mode": {
    "name": "ipython",
    "version": 3
   },
   "file_extension": ".py",
   "mimetype": "text/x-python",
   "name": "python",
   "nbconvert_exporter": "python",
   "pygments_lexer": "ipython3",
   "version": "3.6.8"
  }
 },
 "nbformat": 4,
 "nbformat_minor": 2
}
