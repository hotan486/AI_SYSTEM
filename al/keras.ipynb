{
 "cells": [
  {
   "cell_type": "markdown",
   "metadata": {},
   "source": [
    "#### KERAS\n",
    "* Mnist"
   ]
  },
  {
   "cell_type": "code",
   "execution_count": 40,
   "metadata": {},
   "outputs": [],
   "source": [
    "import tensorflow as tf\n",
    "from tensorflow import keras"
   ]
  },
  {
   "cell_type": "code",
   "execution_count": 41,
   "metadata": {},
   "outputs": [],
   "source": [
    "from keras.datasets import mnist\n",
    "from keras.utils import np_utils\n",
    "from keras.models import Sequential\n",
    "from keras.layers import Dense,Activation"
   ]
  },
  {
   "cell_type": "code",
   "execution_count": 42,
   "metadata": {},
   "outputs": [],
   "source": [
    "(x_train,y_train),(x_test,y_test)=mnist.load_data(path='./keras')"
   ]
  },
  {
   "cell_type": "code",
   "execution_count": 43,
   "metadata": {},
   "outputs": [
    {
     "name": "stdout",
     "output_type": "stream",
     "text": [
      "x_train: (60000, 28, 28)\n",
      "y_train: (60000,)\n",
      "x_test: (10000, 28, 28)\n",
      "y_test: (10000,)\n",
      "5\n"
     ]
    }
   ],
   "source": [
    "print('x_train:',x_train.shape)\n",
    "print('y_train:',y_train.shape)\n",
    "print('x_test:',x_test.shape)\n",
    "print('y_test:',y_test.shape)\n",
    "print(y_train[0])"
   ]
  },
  {
   "cell_type": "markdown",
   "metadata": {},
   "source": [
    "#### 체크 데이터 만들기"
   ]
  },
  {
   "cell_type": "code",
   "execution_count": 44,
   "metadata": {},
   "outputs": [],
   "source": [
    "x_check=x_train[50000:]\n",
    "y_check=y_train[50000:]\n",
    "x_train=x_train[:50000]\n",
    "y_train=y_train[:50000]"
   ]
  },
  {
   "cell_type": "markdown",
   "metadata": {},
   "source": [
    "### 입력 데이터 최적화"
   ]
  },
  {
   "cell_type": "code",
   "execution_count": 45,
   "metadata": {},
   "outputs": [],
   "source": [
    "x_train=x_train.reshape(50000,784).astype('float32')/255.0\n",
    "#print(x_train[0])\n",
    "x_check=x_check.reshape(10000,784).astype('float32')/255.0\n",
    "x_test=x_test.reshape(10000,784).astype('float32')/255.0"
   ]
  },
  {
   "cell_type": "code",
   "execution_count": 46,
   "metadata": {},
   "outputs": [
    {
     "name": "stdout",
     "output_type": "stream",
     "text": [
      "[0. 0. 0. 1. 0. 0. 0. 0. 0. 0.]\n"
     ]
    }
   ],
   "source": [
    "y_train=np_utils.to_categorical(y_train)\n",
    "y_check=np_utils.to_categorical(y_check)\n",
    "y_test=np_utils.to_categorical(y_test)\n",
    "print(y_check[0])"
   ]
  },
  {
   "cell_type": "markdown",
   "metadata": {},
   "source": [
    "#### 모델구성"
   ]
  },
  {
   "cell_type": "code",
   "execution_count": 49,
   "metadata": {},
   "outputs": [],
   "source": [
    "model=Sequential()\n",
    "model.add(Dense(units=64,activation='relu',input_shape=(784,)))\n",
    "model.add(Dense(units=32,activation='relu'))\n",
    "model.add(Dense(units=10,activation='softmax'))\n"
   ]
  },
  {
   "cell_type": "code",
   "execution_count": 50,
   "metadata": {},
   "outputs": [],
   "source": [
    "model.compile(optimizer='sgd',loss='mse',metrics=['accuracy'])"
   ]
  },
  {
   "cell_type": "code",
   "execution_count": 51,
   "metadata": {},
   "outputs": [
    {
     "name": "stdout",
     "output_type": "stream",
     "text": [
      "Train on 50000 samples, validate on 10000 samples\n",
      "Epoch 1/10\n",
      "50000/50000 [==============================] - 5s 108us/step - loss: 0.0810 - acc: 0.3865 - val_loss: 0.0682 - val_acc: 0.5518\n",
      "Epoch 2/10\n",
      "50000/50000 [==============================] - 5s 106us/step - loss: 0.0535 - acc: 0.6596 - val_loss: 0.0388 - val_acc: 0.7850\n",
      "Epoch 3/10\n",
      "50000/50000 [==============================] - 5s 106us/step - loss: 0.0323 - acc: 0.8210 - val_loss: 0.0246 - val_acc: 0.8633\n",
      "Epoch 4/10\n",
      "50000/50000 [==============================] - 5s 106us/step - loss: 0.0239 - acc: 0.8583 - val_loss: 0.0197 - val_acc: 0.8839\n",
      "Epoch 5/10\n",
      "50000/50000 [==============================] - 5s 108us/step - loss: 0.0203 - acc: 0.8769 - val_loss: 0.0173 - val_acc: 0.8925\n",
      "Epoch 6/10\n",
      "50000/50000 [==============================] - 5s 106us/step - loss: 0.0183 - acc: 0.8869 - val_loss: 0.0158 - val_acc: 0.9017\n",
      "Epoch 7/10\n",
      "50000/50000 [==============================] - 5s 108us/step - loss: 0.0170 - acc: 0.8944 - val_loss: 0.0149 - val_acc: 0.9062\n",
      "Epoch 8/10\n",
      "50000/50000 [==============================] - 6s 113us/step - loss: 0.0160 - acc: 0.8988 - val_loss: 0.0141 - val_acc: 0.9106\n",
      "Epoch 9/10\n",
      "50000/50000 [==============================] - 6s 113us/step - loss: 0.0153 - acc: 0.9027 - val_loss: 0.0136 - val_acc: 0.9131\n",
      "Epoch 10/10\n",
      "50000/50000 [==============================] - 5s 110us/step - loss: 0.0147 - acc: 0.9072 - val_loss: 0.0131 - val_acc: 0.9140\n"
     ]
    },
    {
     "data": {
      "text/plain": [
       "<keras.callbacks.History at 0x258b0164cc0>"
      ]
     },
     "execution_count": 51,
     "metadata": {},
     "output_type": "execute_result"
    }
   ],
   "source": [
    "model.fit(x_train,y_train,epochs=10,batch_size=10,validation_data=[x_check,y_check])"
   ]
  },
  {
   "cell_type": "code",
   "execution_count": null,
   "metadata": {},
   "outputs": [],
   "source": []
  }
 ],
 "metadata": {
  "kernelspec": {
   "display_name": "Python 3",
   "language": "python",
   "name": "python3"
  },
  "language_info": {
   "codemirror_mode": {
    "name": "ipython",
    "version": 3
   },
   "file_extension": ".py",
   "mimetype": "text/x-python",
   "name": "python",
   "nbconvert_exporter": "python",
   "pygments_lexer": "ipython3",
   "version": "3.6.8"
  }
 },
 "nbformat": 4,
 "nbformat_minor": 2
}
